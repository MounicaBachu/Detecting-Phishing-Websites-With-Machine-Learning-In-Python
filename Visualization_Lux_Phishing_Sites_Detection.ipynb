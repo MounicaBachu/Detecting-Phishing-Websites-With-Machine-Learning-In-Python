{
 "cells": [
  {
   "cell_type": "markdown",
   "metadata": {},
   "source": [
    "# Visualizations Implemented Using Lux"
   ]
  },
  {
   "cell_type": "code",
   "execution_count": 1,
   "metadata": {},
   "outputs": [],
   "source": [
    "#Load the required packages\n",
    "import pandas as pd\n",
    "#import the feature_extract file to perform feature extraction process\n",
    "from feature_extract import features, prediction\n",
    "import lux\n",
    "lux.config.default_display = \"lux\"\n",
    "lux.config.plotting_backend = \"matplotlib\""
   ]
  },
  {
   "cell_type": "markdown",
   "metadata": {},
   "source": [
    "# Data Loading ----> Data Cleaning ----> Under Sampling"
   ]
  },
  {
   "cell_type": "code",
   "execution_count": 2,
   "metadata": {},
   "outputs": [],
   "source": [
    "#Load the dataset into dataframe\n",
    "phishing_raw_df = pd.read_csv(\"Main_dataset.csv\", header = 0)\n",
    "# Dropping null values, duplicates and reset the index\n",
    "phishing_raw_df = phishing_raw_df.dropna()\n",
    "phishing_raw_df = phishing_raw_df.drop_duplicates()\n",
    "phishing_raw_df = phishing_raw_df.reset_index(drop=True)\n",
    "#Each Class count in target variable\n",
    "count_class_1, count_class_0 = phishing_raw_df.label.value_counts()\n",
    "\n",
    "# Divide by each class\n",
    "df_class_0 = phishing_raw_df[phishing_raw_df['label'] == 0]\n",
    "df_class_1 = phishing_raw_df[phishing_raw_df['label'] == 1]\n",
    "\n",
    "# As the class 1 values are more than to class 0,\n",
    "# Undersampling is performed to avoid bias and have same number of urls in both classes\n",
    "df_class_1_under = df_class_1.sample(count_class_0)\n",
    "phishing_raw_df = pd.concat([df_class_1_under, df_class_0], axis=0)"
   ]
  },
  {
   "cell_type": "code",
   "execution_count": 3,
   "metadata": {},
   "outputs": [
    {
     "data": {
      "application/vnd.jupyter.widget-view+json": {
       "model_id": "5fb84c532fb3474691d95859e9c48fff",
       "version_major": 2,
       "version_minor": 0
      },
      "text/plain": [
       "Button(description='Toggle Pandas/Lux', layout=Layout(top='5px', width='140px'), style=ButtonStyle())"
      ]
     },
     "metadata": {},
     "output_type": "display_data"
    },
    {
     "data": {
      "application/vnd.jupyter.widget-view+json": {
       "model_id": "0674149f3a514e198958458589660447",
       "version_major": 2,
       "version_minor": 0
      },
      "text/plain": [
       "Output()"
      ]
     },
     "metadata": {},
     "output_type": "display_data"
    },
    {
     "data": {
      "text/plain": []
     },
     "execution_count": 3,
     "metadata": {},
     "output_type": "execute_result"
    }
   ],
   "source": [
    "phishing_raw_df"
   ]
  },
  {
   "cell_type": "code",
   "execution_count": 4,
   "metadata": {},
   "outputs": [],
   "source": [
    "# object created for the features class imported from feature_extract file\n",
    "feature = features()"
   ]
  },
  {
   "cell_type": "markdown",
   "metadata": {},
   "source": [
    "# Feature Engineering "
   ]
  },
  {
   "cell_type": "code",
   "execution_count": 5,
   "metadata": {},
   "outputs": [],
   "source": [
    "# Feature engineering\n",
    "#call_type = 'model'\n",
    "# Insert a new column to the dataframe which shows if 'http' is found in the domain part of the URL.\n",
    "phishing_raw_df[\"Domain_http\"] = phishing_raw_df[\"domain\"].apply( lambda x: feature.httpDomain(x))\n",
    "\n",
    "# Insert a new column to the dataframe indicating the length of the URL.\n",
    "phishing_raw_df[\"LongURL\"] = phishing_raw_df[\"domain\"].apply( lambda x: feature.LongURL(x))\n",
    "\n",
    "# Insert a new column to the dataframe indicating if the URL belongs to any of the shortening services.\n",
    "phishing_raw_df[\"TinyURL\"] = phishing_raw_df[\"domain\"].apply( lambda x: feature.tinyURL(x))\n",
    "\n",
    "# Alter the values in 'nosOfSubdomain' column of the dataframe.\n",
    "# If the number of sub domains is more than 1, then it is a phishing site.\n",
    "phishing_raw_df[\"nosOfSubdomain\"] = phishing_raw_df[\"domain\"].apply( lambda x: feature.no_sub_domain(x))\n",
    "\n",
    "# Alter the values in 'activeDuration' column of the dataframe.\n",
    "# If the value is greater than 365 (1 year), then it is a legitimate site.\n",
    "phishing_raw_df[\"activeDuration\"] = phishing_raw_df[\"activeDuration\"].apply( lambda x: 1 if x <= 365 else 0)\n",
    "\n",
    "# Alter the values in the dataframe column 'ranking'\n",
    "# If the value is greater than 100000, then it is a phishing site\n",
    "phishing_raw_df[\"ranking\"] = phishing_raw_df[\"ranking\"].apply( lambda x: 0 if x < 100000 else 1)\n",
    "\n",
    "# Remove the unwanted columns from the dataframe\n",
    "phishing_raw_df.drop(['urlLen','domainLen','domain'], inplace=True,axis=1)\n",
    "\n",
    "# Reorder and rename the columns in the dataframe\n",
    "Columns = ['Rank','isIP','isValid','Domain_reg_len','is@','isRedirect','haveDash','SubDomain','Label','Domain_http','LongURL','TinyURL']\n",
    "new_columns = ['Rank','isIP','isValid','Domain_reg_len','is@','isRedirect','haveDash','SubDomain','Domain_http','LongURL','TinyURL','Label']\n",
    "phishing_raw_df.columns = Columns\n",
    "phishing_raw_df = phishing_raw_df.reindex(columns=new_columns)\n",
    "\n",
    "# Shuffle the rows in the dataset so that when splitting the train and test set are equally distributed\n",
    "\n",
    "phishing_raw_df = phishing_raw_df.sample(frac=1).reset_index(drop=True)\n",
    "\n",
    "# Save the dataframe to a csv file\n",
    "phishing_raw_df.to_csv('phishing_feature_engg.csv', encoding='utf-8')\n"
   ]
  },
  {
   "cell_type": "code",
   "execution_count": 6,
   "metadata": {},
   "outputs": [
    {
     "data": {
      "application/vnd.jupyter.widget-view+json": {
       "model_id": "bf95bbaa0c7b4b8d9d2adf06f2185ae6",
       "version_major": 2,
       "version_minor": 0
      },
      "text/plain": [
       "Button(description='Toggle Pandas/Lux', layout=Layout(top='5px', width='140px'), style=ButtonStyle())"
      ]
     },
     "metadata": {},
     "output_type": "display_data"
    },
    {
     "data": {
      "application/vnd.jupyter.widget-view+json": {
       "model_id": "42e50a5739134eef935b30e891a012e7",
       "version_major": 2,
       "version_minor": 0
      },
      "text/plain": [
       "Output()"
      ]
     },
     "metadata": {},
     "output_type": "display_data"
    },
    {
     "data": {
      "text/plain": []
     },
     "execution_count": 6,
     "metadata": {},
     "output_type": "execute_result"
    }
   ],
   "source": [
    "#intent function we can assign a input variable and lux plots each of this feature with the target variable\n",
    "phishing_raw_df.intent=[\"Label\"]\n",
    "phishing_raw_df"
   ]
  },
  {
   "cell_type": "code",
   "execution_count": null,
   "metadata": {},
   "outputs": [],
   "source": []
  }
 ],
 "metadata": {
  "kernelspec": {
   "display_name": "Python 3",
   "language": "python",
   "name": "python3"
  },
  "language_info": {
   "codemirror_mode": {
    "name": "ipython",
    "version": 3
   },
   "file_extension": ".py",
   "mimetype": "text/x-python",
   "name": "python",
   "nbconvert_exporter": "python",
   "pygments_lexer": "ipython3",
   "version": "3.7.9"
  }
 },
 "nbformat": 4,
 "nbformat_minor": 4
}
